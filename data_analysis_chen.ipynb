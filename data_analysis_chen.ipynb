{
 "cells": [
  {
   "cell_type": "code",
   "execution_count": 1,
   "metadata": {},
   "outputs": [],
   "source": [
    "import requests\n",
    "from bs4 import BeautifulSoup\n",
    "import json\n",
    "import sys\n",
    "import os"
   ]
  },
  {
   "cell_type": "code",
   "execution_count": 2,
   "metadata": {},
   "outputs": [],
   "source": [
    "from selenium import webdriver\n",
    "from selenium.webdriver.common.keys import Keys"
   ]
  },
  {
   "cell_type": "code",
   "execution_count": 3,
   "metadata": {},
   "outputs": [],
   "source": [
    "username=\"13871884080\"\n",
    "password=\"632115048tu\""
   ]
  },
  {
   "cell_type": "code",
   "execution_count": 4,
   "metadata": {},
   "outputs": [],
   "source": [
    "driver = webdriver.Firefox()\n",
    "geektime_login = 'https://account.geekbang.org/login'\n",
    "driver.get(geektime_login)\n",
    "\n",
    "input_phone = driver.find_element_by_xpath(\"/html/body/div[1]/div/div[1]/div[1]/div[1]/input\")\n",
    "input_pass = driver.find_element_by_xpath(\"/html/body/div[1]/div/div[1]/div[2]/input\")\n",
    "\n",
    "input_phone.send_keys(username)\n",
    "input_pass.send_keys(password)"
   ]
  },
  {
   "cell_type": "code",
   "execution_count": 5,
   "metadata": {},
   "outputs": [],
   "source": [
    "# 登录 \n",
    "button_submit = driver.find_element_by_xpath(\"/html/body/div[1]/div/div[1]/button\")\n",
    "button_submit.click()"
   ]
  },
  {
   "cell_type": "code",
   "execution_count": 6,
   "metadata": {},
   "outputs": [],
   "source": [
    "def logout():\n",
    "    logout_node = driver.find_element_by_css_selector(\"a[class~=exit]\")\n",
    "    if logout is not None:\n",
    "        logout_node.click()\n",
    "    else:\n",
    "        account_node = driver.find_element_by_css_selector(\"a.avatarwrap\")\n",
    "        account_node.click()\n",
    "        logout_node = driver.find_element_by_xpath(\"a[class~=exit]\")\n",
    "        logout_node.click()\n"
   ]
  },
  {
   "cell_type": "code",
   "execution_count": 7,
   "metadata": {},
   "outputs": [],
   "source": [
    "# click 极客时间\n",
    "geektime_index = \"https://time.geekbang.org/\"\n",
    "driver.get(geektime_index)"
   ]
  },
  {
   "cell_type": "code",
   "execution_count": 8,
   "metadata": {},
   "outputs": [
    {
     "data": {
      "text/plain": [
       "<selenium.webdriver.firefox.webelement.FirefoxWebElement (session=\"a7527651-3d02-44c5-88cb-c09a9c611e45\", element=\"5925a758-d236-42ac-b1a7-9e9ddcf8e9cf\")>"
      ]
     },
     "execution_count": 8,
     "metadata": {},
     "output_type": "execute_result"
    }
   ],
   "source": [
    "# 我的课程列表的数据来自的是异步的AJAX请求 故在列表显示之前必须等待\n",
    "from selenium.webdriver.support.ui import WebDriverWait\n",
    "WebDriverWait(driver, 20, 1).until(lambda x: x.find_element_by_xpath(\"/html/body/div[1]/div[1]/div[5]/div/a\"))"
   ]
  },
  {
   "cell_type": "code",
   "execution_count": 9,
   "metadata": {},
   "outputs": [],
   "source": [
    "# click 关闭(modal)\n",
    "driver.find_element_by_xpath(\"/html/body/div[1]/div[1]/div[5]/div/a\").click()"
   ]
  },
  {
   "cell_type": "code",
   "execution_count": 10,
   "metadata": {},
   "outputs": [],
   "source": [
    "# 点击 我的课程 \n",
    "# driver.find_element_by_xpath(\"/html/body/div[1]/div[1]/div[2]/div[2]/div/div[1]/button\").click()"
   ]
  },
  {
   "cell_type": "code",
   "execution_count": 11,
   "metadata": {},
   "outputs": [],
   "source": [
    "# 点击 我的课程 无法让webdriver的活跃页跟随跳转到新打开的 我的课程 页,\n",
    "# 直接请求 我的课程 URL 进行跳转\n",
    "geektime_home = \"https://time.geekbang.org/dashboard/course\"\n",
    "driver.get(geektime_home)"
   ]
  },
  {
   "cell_type": "code",
   "execution_count": 12,
   "metadata": {},
   "outputs": [],
   "source": [
    "# 我的课程列表的数据来自的是异步的AJAX请求 故在列表显示之前必须等待\n",
    "from selenium.webdriver.support.ui import WebDriverWait\n",
    "button = WebDriverWait(driver, 20, 1).until(lambda x: x.find_elements_by_css_selector(\"button\"))"
   ]
  },
  {
   "cell_type": "code",
   "execution_count": 13,
   "metadata": {},
   "outputs": [
    {
     "data": {
      "text/plain": [
       "'https://time.geekbang.org/dashboard/course'"
      ]
     },
     "execution_count": 13,
     "metadata": {},
     "output_type": "execute_result"
    }
   ],
   "source": [
    "course_home = driver.current_url\n",
    "course_home"
   ]
  },
  {
   "cell_type": "markdown",
   "metadata": {},
   "source": [
    "course_div = driver.find_element_by_css_selector(\"div._1awI3DXM_0 > div\")"
   ]
  },
  {
   "cell_type": "code",
   "execution_count": 14,
   "metadata": {},
   "outputs": [],
   "source": [
    "course_list = []\n",
    "try:\n",
    "    course_list = driver.find_elements_by_css_selector(\"button\")\n",
    "except:\n",
    "    print('Those button cannot be found!')\n",
    "    logout()\n",
    "    driver.quit()"
   ]
  },
  {
   "cell_type": "code",
   "execution_count": 15,
   "metadata": {},
   "outputs": [
    {
     "name": "stdout",
     "output_type": "stream",
     "text": [
      "开始学习\n",
      "开始学习\n"
     ]
    }
   ],
   "source": [
    "for e in course_list:\n",
    "    print(e.text)"
   ]
  },
  {
   "cell_type": "code",
   "execution_count": 16,
   "metadata": {
    "scrolled": false
   },
   "outputs": [],
   "source": [
    "# first course\n",
    "course_list[0].click()"
   ]
  },
  {
   "cell_type": "code",
   "execution_count": 17,
   "metadata": {},
   "outputs": [],
   "source": [
    "try:\n",
    "    e = WebDriverWait(driver, 20, 1).until(lambda x: len(x.window_handles) > 1)\n",
    "except:\n",
    "    print(sys.exc_info()[0])\n",
    "    logout()\n",
    "    driver.quit()"
   ]
  },
  {
   "cell_type": "markdown",
   "metadata": {},
   "source": [
    "Click on the button will open a new non-active tab, in other words, `driver.current_url` still remains 'https://time.geekbang.org/dashboard/course' while the course content is on the non-active tab."
   ]
  },
  {
   "cell_type": "code",
   "execution_count": 18,
   "metadata": {},
   "outputs": [
    {
     "data": {
      "text/plain": [
       "'https://time.geekbang.org/dashboard/course'"
      ]
     },
     "execution_count": 18,
     "metadata": {},
     "output_type": "execute_result"
    }
   ],
   "source": [
    "driver.current_url"
   ]
  },
  {
   "cell_type": "code",
   "execution_count": 19,
   "metadata": {},
   "outputs": [
    {
     "data": {
      "text/plain": [
       "['15', '4294967338']"
      ]
     },
     "execution_count": 19,
     "metadata": {},
     "output_type": "execute_result"
    }
   ],
   "source": [
    "driver.window_handles"
   ]
  },
  {
   "cell_type": "code",
   "execution_count": 20,
   "metadata": {},
   "outputs": [],
   "source": [
    "\n",
    "## try to close current tab (old tab) to make the course page currentnt tab, but failed for some reason\n",
    "# driver.find_element_by_tag_name('body').send_keys(Keys.CONTROL + 'W')\n",
    "\n",
    "## try to use CTRL + TAB to switch to the right tab, but failed again\n",
    "#driver.find_element_by_tag_name('body').send_keys(Keys.CONTROL + Keys.TAB)\n",
    "\n",
    "# finnaly this one works\n",
    "driver.switch_to.window(driver.window_handles[1])"
   ]
  },
  {
   "cell_type": "code",
   "execution_count": 21,
   "metadata": {},
   "outputs": [
    {
     "data": {
      "text/plain": [
       "'https://time.geekbang.org/column/article/73248'"
      ]
     },
     "execution_count": 21,
     "metadata": {},
     "output_type": "execute_result"
    }
   ],
   "source": [
    "course_url = driver.current_url\n",
    "course_url"
   ]
  },
  {
   "cell_type": "code",
   "execution_count": 22,
   "metadata": {},
   "outputs": [],
   "source": [
    "# wait unit the chapter container is ready\n",
    "chapter_div = WebDriverWait(driver, 20, 1)\\\n",
    ".until(lambda x: x.find_element_by_xpath(\"//div[contains(@class, 'faLsNCZ2_0')]\"))"
   ]
  },
  {
   "cell_type": "code",
   "execution_count": 23,
   "metadata": {},
   "outputs": [],
   "source": [
    "def save_article_to_html():\n",
    "    course_title = driver.find_element_by_css_selector(\"div._382D6fck_0 > div.WRb7YQxC_0\").text\n",
    "    \n",
    "    current_article_div = driver.find_element_by_css_selector(\"div[class~='_2AkdpMxn_0']\")\n",
    "    \n",
    "    current_chapter_div = current_article_div.get_property(\"parentNode\").get_property(\"parentNode\").get_property(\"parentNode\")\n",
    "    current_chapter_name = current_chapter_div.get_property(\"firstChild\").get_property(\"firstChild\").text\n",
    "    \n",
    "    current_article_name = current_article_div.get_property(\"firstChild\").text\n",
    "    \n",
    "    article_content_div = driver.find_element_by_css_selector(\"div._2c4hPkl9 > div:nth-child(1)\")\n",
    "    article_content_html = article_content_div.get_attribute(\"outerHTML\")\n",
    "    \n",
    "    # write to file\n",
    "    filename = current_article_name+'.html'\n",
    "    output_path = os.path.join(course_title, current_chapter_name, filename)\n",
    "    if os.path.isfile(output_path) is False:\n",
    "        with open(output_path, 'w') as writer:\n",
    "            writer.write(article_content_html)\n",
    "        print(current_article_name+' is successfully saved!')\n",
    "    else:\n",
    "        print(filename+' has already existed!')"
   ]
  },
  {
   "cell_type": "code",
   "execution_count": 24,
   "metadata": {},
   "outputs": [
    {
     "data": {
      "text/plain": [
       "'https://time.geekbang.org/column/article/73248'"
      ]
     },
     "execution_count": 24,
     "metadata": {},
     "output_type": "execute_result"
    }
   ],
   "source": [
    "driver.current_url"
   ]
  },
  {
   "cell_type": "code",
   "execution_count": 25,
   "metadata": {},
   "outputs": [],
   "source": [
    "chapter_div_list = driver.find_elements_by_css_selector(\"div[class~='rMLmCpCA_0']\")"
   ]
  },
  {
   "cell_type": "code",
   "execution_count": 26,
   "metadata": {},
   "outputs": [],
   "source": [
    "chapter_title_list = []\n",
    "for div in chapter_div_list:\n",
    "    chapter_title_list.append(div.get_property(\"firstChild\").get_property(\"firstChild\").get_property(\"innerHTML\"))"
   ]
  },
  {
   "cell_type": "code",
   "execution_count": 27,
   "metadata": {},
   "outputs": [
    {
     "data": {
      "text/plain": [
       "['开篇词 (1讲)',\n",
       " '第一模块：数据分析基础篇 (16讲)',\n",
       " '第二模块：数据分析算法篇 (20讲)',\n",
       " '第三模块：数据分析实战篇 (7讲)',\n",
       " '第四模块：数据分析工作篇 (2讲)',\n",
       " '加餐 (1讲)',\n",
       " '结束语 (1讲)']"
      ]
     },
     "execution_count": 27,
     "metadata": {},
     "output_type": "execute_result"
    }
   ],
   "source": [
    "chapter_title_list"
   ]
  },
  {
   "cell_type": "code",
   "execution_count": 28,
   "metadata": {},
   "outputs": [],
   "source": [
    "course_title = driver.find_element_by_css_selector(\"div._382D6fck_0 > div.WRb7YQxC_0\").text\n",
    "\n",
    "# create filesystem hierachy\n",
    "if os.path.isdir(course_title) is False:\n",
    "    os.mkdir(course_title)\n",
    "for chapter in chapter_title_list:\n",
    "    p = os.path.join(course_title, chapter)\n",
    "    if os.path.isdir(p) is False:\n",
    "        os.mkdir(os.path.join(course_title, chapter))\n"
   ]
  },
  {
   "cell_type": "code",
   "execution_count": 29,
   "metadata": {},
   "outputs": [
    {
     "name": "stdout",
     "output_type": "stream",
     "text": [
      "rMLmCpCA_0 _3kBNzF8S_0\n",
      "rMLmCpCA_0\n",
      "rMLmCpCA_0\n",
      "rMLmCpCA_0\n",
      "rMLmCpCA_0\n",
      "rMLmCpCA_0\n",
      "rMLmCpCA_0\n"
     ]
    }
   ],
   "source": [
    "# reset history and fold all chapter node to get ready for iteration\n",
    "for chapter in chapter_div_list:\n",
    "    print(chapter.get_property(\"className\"))\n",
    "    if \"_3kBNzF8S_0\" in chapter.get_property(\"className\"):\n",
    "        chapter.get_property(\"firstChild\").click()"
   ]
  },
  {
   "cell_type": "code",
   "execution_count": 30,
   "metadata": {},
   "outputs": [
    {
     "name": "stdout",
     "output_type": "stream",
     "text": [
      "https://time.geekbang.org/column/article/73248\n",
      "开篇词 | 你为什么需要数据分析能力？.html has already existed!\n",
      "https://time.geekbang.org/column/article/73270\n",
      "01丨数据分析全景图及修炼指南.html has already existed!\n",
      "https://time.geekbang.org/column/article/73397\n",
      "02丨学习数据挖掘的最佳路径是什么？.html has already existed!\n",
      "https://time.geekbang.org/column/article/73574\n",
      "03丨Python基础语法：开始你的Python之旅.html has already existed!\n",
      "https://time.geekbang.org/column/article/73756\n",
      "04丨Python科学计算：用NumPy快速处理数据.html has already existed!\n",
      "https://time.geekbang.org/column/article/73971\n",
      "05丨Python科学计算：Pandas.html has already existed!\n",
      "https://time.geekbang.org/column/article/74612\n",
      "06 | 学数据分析要掌握哪些基本概念？.html has already existed!\n",
      "https://time.geekbang.org/column/article/75056\n",
      "07 | 用户画像：标签化就是数据的抽象能力.html has already existed!\n",
      "https://time.geekbang.org/column/article/75463\n",
      "08 | 数据采集：如何自动化采集数据？.html has already existed!\n",
      "https://time.geekbang.org/column/article/75780\n",
      "09丨数据采集：如何用八爪鱼采集微博上的“D&G”评论.html has already existed!\n",
      "https://time.geekbang.org/column/article/76001\n",
      "10丨Python爬虫：如何自动化下载王祖贤海报？ is successfully saved!\n",
      "https://time.geekbang.org/column/article/76307\n",
      "11 | 数据科学家80%时间都花费在了这些清洗任务上？ is successfully saved!\n",
      "https://time.geekbang.org/column/article/76787\n",
      "12 | 数据集成：这些大号一共20亿粉丝？ is successfully saved!\n",
      "https://time.geekbang.org/column/article/77059\n",
      "13 | 数据变换：考试成绩要求正态分布合理么？ is successfully saved!\n",
      "https://time.geekbang.org/column/article/77263\n",
      "14丨数据可视化：掌握数据领域的万金油技能 is successfully saved!\n",
      "https://time.geekbang.org/column/article/77664\n",
      "15丨一次学会Python数据可视化的10种技能 is successfully saved!\n",
      "https://time.geekbang.org/column/article/78068\n",
      "16丨数据分析基础篇答疑 is successfully saved!\n",
      "https://time.geekbang.org/column/article/78273\n",
      "17 丨决策树（上）：要不要去打篮球？决策树来告诉你 is successfully saved!\n",
      "https://time.geekbang.org/column/article/78659\n",
      "18丨决策树（中）：CART，一棵是回归树，另一棵是分类树 is successfully saved!\n",
      "https://time.geekbang.org/column/article/79072\n",
      "19丨决策树（下）：泰坦尼克乘客生存预测 is successfully saved!\n",
      "https://time.geekbang.org/column/article/79294\n",
      "20丨朴素贝叶斯分类（上）：如何让机器判断男女？ is successfully saved!\n",
      "https://time.geekbang.org/column/article/79762\n",
      "21丨朴素贝叶斯分类（下）：如何对文档进行分类？ is successfully saved!\n",
      "https://time.geekbang.org/column/article/79975\n",
      "22丨SVM（上）：如何用一根棍子将蓝红两色球分开？ is successfully saved!\n",
      "https://time.geekbang.org/column/article/80712\n",
      "23丨SVM（下）：如何进行乳腺癌检测？ is successfully saved!\n",
      "https://time.geekbang.org/column/article/80983\n",
      "24丨KNN（上）：如何根据打斗和接吻次数来划分电影类型？ is successfully saved!\n",
      "https://time.geekbang.org/column/article/81018\n",
      "25丨KNN（下）：如何对手写数字进行识别？ is successfully saved!\n",
      "https://time.geekbang.org/column/article/81390\n",
      "26丨K-Means（上）：如何给20支亚洲球队做聚类？ is successfully saved!\n",
      "https://time.geekbang.org/column/article/81591\n",
      "27丨K-Means（下）：如何使用K-Means对图像进行分割？ is successfully saved!\n",
      "https://time.geekbang.org/column/article/81896\n",
      "28丨EM聚类（上）：如何将一份菜等分给两个人？ is successfully saved!\n",
      "https://time.geekbang.org/column/article/82333\n",
      "29丨EM聚类（下）：用EM算法对王者荣耀英雄进行划分 is successfully saved!\n",
      "https://time.geekbang.org/column/article/82628\n",
      "30丨关联规则挖掘（上）：如何用Apriori发现用户购物规则？ is successfully saved!\n",
      "https://time.geekbang.org/column/article/82943\n",
      "31丨关联规则挖掘（下）：导演如何选择演员？ is successfully saved!\n",
      "https://time.geekbang.org/column/article/83034\n",
      "32丨PageRank（上）：搞懂Google的PageRank算法 is successfully saved!\n",
      "https://time.geekbang.org/column/article/83471\n",
      "33丨PageRank（下）：分析希拉里邮件中的人物关系 is successfully saved!\n",
      "https://time.geekbang.org/column/article/83915\n",
      "34丨AdaBoost（上）：如何使用AdaBoost提升分类器性能？ is successfully saved!\n",
      "https://time.geekbang.org/column/article/84086\n",
      "35丨AdaBoost（下）：如何使用AdaBoost对房价进行预测？ is successfully saved!\n",
      "https://time.geekbang.org/column/article/84499\n",
      "36丨数据分析算法篇答疑 is successfully saved!\n",
      "https://time.geekbang.org/column/article/84933\n",
      "37丨数据采集实战：如何自动化运营微博？ is successfully saved!\n",
      "https://time.geekbang.org/column/article/85158\n",
      "38丨数据可视化实战：如何给毛不易的歌曲做词云展示？ is successfully saved!\n",
      "https://time.geekbang.org/column/article/85577\n",
      "39丨数据挖掘实战（1）：信用卡违约率分析 is successfully saved!\n",
      "https://time.geekbang.org/column/article/85987\n",
      "40丨数据挖掘实战（2）：信用卡诈骗分析 is successfully saved!\n",
      "https://time.geekbang.org/column/article/86237\n",
      " is successfully saved!\n",
      "https://time.geekbang.org/column/article/86582\n",
      "42丨当我们谈深度学习的时候，我们都在谈什么？ is successfully saved!\n",
      "https://time.geekbang.org/column/article/87071\n",
      "43丨深度学习（下）：如何用Keras搭建深度学习网络做手写数字识别？ is successfully saved!\n",
      "https://time.geekbang.org/column/article/87240\n",
      "44丨如何培养你的数据分析思维？ is successfully saved!\n",
      "https://time.geekbang.org/column/article/87636\n",
      "45丨求职简历中没有相关项目经验，怎么办？ is successfully saved!\n",
      "https://time.geekbang.org/column/article/74345\n",
      "加餐丨在社交网络上刷粉刷量，技术上是如何实现的？ is successfully saved!\n",
      "https://time.geekbang.org/column/article/88089\n",
      "结束语丨当大家都在讲知识和工具的时候，我更希望你重视思维和实战 is successfully saved!\n"
     ]
    }
   ],
   "source": [
    "n_chapter = len(chapter_div_list)\n",
    "\n",
    "for c in range(n_chapter):\n",
    "    # first click the chapter div to unfold it\n",
    "    chapter_div_list[c].get_property(\"firstChild\").click()\n",
    "    \n",
    "    article_node_list = driver.find_elements_by_css_selector(\"div[class~='_3kBNzF8S_0'] div[class~='_1NHkz9xq_0']\")\n",
    "    n_article = len(article_node_list)\n",
    "    \n",
    "    for a in range(n_article):\n",
    "        # click to go to the article\n",
    "        article_node_list[a].click()\n",
    "        # wait for content to be displayed\n",
    "        WebDriverWait(driver, 20, 1).until(lambda x: x.find_element_by_css_selector(\"div._2c4hPkl9\"))\n",
    "        print(driver.current_url)\n",
    "        save_article_to_html()\n",
    "    \n",
    "    current_chapter_div = driver.find_element_by_css_selector(\"div[class~='_3kBNzF8S_0']\")\n",
    "    current_chapter_div.get_property(\"firstChild\").click()"
   ]
  },
  {
   "cell_type": "code",
   "execution_count": null,
   "metadata": {},
   "outputs": [],
   "source": []
  }
 ],
 "metadata": {
  "kernelspec": {
   "display_name": "Python 3",
   "language": "python",
   "name": "python3"
  },
  "language_info": {
   "codemirror_mode": {
    "name": "ipython",
    "version": 3
   },
   "file_extension": ".py",
   "mimetype": "text/x-python",
   "name": "python",
   "nbconvert_exporter": "python",
   "pygments_lexer": "ipython3",
   "version": "3.7.4"
  }
 },
 "nbformat": 4,
 "nbformat_minor": 2
}
