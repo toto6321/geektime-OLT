{
 "cells": [
  {
   "cell_type": "code",
   "execution_count": null,
   "metadata": {},
   "outputs": [],
   "source": [
    "import os\n",
    "import sys"
   ]
  },
  {
   "cell_type": "code",
   "execution_count": null,
   "metadata": {},
   "outputs": [],
   "source": [
    "from selenium import webdriver\n",
    "from selenium.webdriver.common.keys import Keys\n",
    "from selenium.webdriver.support.ui import WebDriverWait"
   ]
  },
  {
   "cell_type": "code",
   "execution_count": null,
   "metadata": {},
   "outputs": [],
   "source": [
    "import logging\n",
    "from datetime import datetime as dt\n",
    "\n",
    "\n",
    "now = dt.today()\n",
    "logging.basicConfig(filename=f'{now}.debug.txt', level=logging.CRITICAL)"
   ]
  },
  {
   "cell_type": "code",
   "execution_count": null,
   "metadata": {},
   "outputs": [],
   "source": [
    "username=\"fill_your_username\"\n",
    "password=\"fill_your_password\""
   ]
  },
  {
   "cell_type": "code",
   "execution_count": null,
   "metadata": {},
   "outputs": [],
   "source": [
    "driver = webdriver.Firefox()\n",
    "geektime_login = 'https://account.geekbang.org/login'\n",
    "driver.get(geektime_login)\n",
    "\n",
    "input_phone = driver.find_element_by_xpath(\"/html/body/div[1]/div/div[1]/div[1]/div[1]/input\")\n",
    "input_pass = driver.find_element_by_xpath(\"/html/body/div[1]/div/div[1]/div[2]/input\")\n",
    "\n",
    "input_phone.send_keys(username)\n",
    "input_pass.send_keys(password)"
   ]
  },
  {
   "cell_type": "code",
   "execution_count": null,
   "metadata": {},
   "outputs": [],
   "source": [
    "# 登录 \n",
    "button_submit = driver.find_element_by_xpath(\"/html/body/div[1]/div/div[1]/button\")\n",
    "button_submit.click()"
   ]
  },
  {
   "cell_type": "code",
   "execution_count": null,
   "metadata": {},
   "outputs": [],
   "source": [
    "def logout():\n",
    "    logout_node = None\n",
    "    try:\n",
    "        logout_node = driver.find_element_by_css_selector(\"div[class~='_1MA-AdXE_0'] a:last-child\")\n",
    "    except:\n",
    "        try:\n",
    "            logout_node = driver.find_element_by_css_selector(\"a.avatarwrap\")\n",
    "        except:\n",
    "            pass\n",
    "    \n",
    "    if logout_node is not None:\n",
    "        logout_node.click()\n",
    "    else:\n",
    "        account_node = None\n",
    "        try:\n",
    "            account_node = driver.find_element_by_css_selector(\"span[class~='iconfont']\")\n",
    "            account_node.click()\n",
    "            logout_node = driver.find_element_by_css_selector(\"div[class~='_1MA-AdXE_0'] a:last-child\")\n",
    "        except Exception as e1:\n",
    "            try:\n",
    "                account_node = driver.find_element_by_css_selector(\"a.avatarwrap\")\n",
    "                account_node.click()\n",
    "                logout_node = driver\\\n",
    "                            .find_element_by_css_selector(\"div[class~='profile-dropdown'] a:last-child\")\n",
    "            except Exception as e2: \n",
    "                logging.error(\"The account node cannot be found!\")\n",
    "                print(e1)\n",
    "                print(e2)\n",
    "        else:\n",
    "            logout_node.click()\n",
    "    try:\n",
    "        WebDriverWait(driver, 10, 1).until(lambda d: d.find_element_by_css_selector(\"div#id\"))\n",
    "    except Exception as e:\n",
    "        print(e, file=sys.stderr)\n",
    "    finally:\n",
    "        driver.quit()\n"
   ]
  },
  {
   "cell_type": "code",
   "execution_count": null,
   "metadata": {},
   "outputs": [],
   "source": [
    "# 等待登陆成功 并进入我的基本信息页\n",
    "WebDriverWait(driver, 20, 2).until(lambda x: x.find_elements_by_css_selector(\"a.navbar-item:nth-child(2)\"))"
   ]
  },
  {
   "cell_type": "code",
   "execution_count": null,
   "metadata": {},
   "outputs": [],
   "source": [
    "# click 极客时间\n",
    "geektime_index = \"https://time.geekbang.org/\"\n",
    "driver.get(geektime_index)"
   ]
  },
  {
   "cell_type": "code",
   "execution_count": null,
   "metadata": {
    "scrolled": true
   },
   "outputs": [],
   "source": [
    "# 我的课程列表的数据来自的是异步的AJAX请求 故在列表显示之前必须等待\n",
    "WebDriverWait(driver, 10, 2).until(lambda x: x.find_element_by_xpath(\"/html/body/div[1]/div[1]/div[5]/div/a\"))"
   ]
  },
  {
   "cell_type": "code",
   "execution_count": null,
   "metadata": {},
   "outputs": [],
   "source": [
    "# click 关闭(modal)\n",
    "driver.find_element_by_xpath(\"/html/body/div[1]/div[1]/div[5]/div/a\").click()"
   ]
  },
  {
   "cell_type": "code",
   "execution_count": null,
   "metadata": {},
   "outputs": [],
   "source": [
    "# 点击 我的课程 无法让webdriver的活跃页跟随跳转到新打开的 我的课程 页,\n",
    "# 直接请求 我的课程 URL 进行跳转\n",
    "geektime_home = \"https://time.geekbang.org/dashboard/course\"\n",
    "driver.get(geektime_home)"
   ]
  },
  {
   "cell_type": "code",
   "execution_count": null,
   "metadata": {},
   "outputs": [],
   "source": [
    "# 我的课程列表的数据来自的是异步的AJAX请求 故在列表显示之前必须等待\n",
    "course_list = None\n",
    "try:\n",
    "    course_list = WebDriverWait(driver, 20, 2).until(lambda x: x.find_elements_by_css_selector(\"button\"))\n",
    "    logging.info(course_list)\n",
    "except Exception as e:\n",
    "    print(e, file=sys.stderr)\n",
    "    logout()"
   ]
  },
  {
   "cell_type": "code",
   "execution_count": null,
   "metadata": {},
   "outputs": [],
   "source": [
    "course_home = driver.current_url\n",
    "course_home"
   ]
  },
  {
   "cell_type": "code",
   "execution_count": null,
   "metadata": {
    "scrolled": false
   },
   "outputs": [],
   "source": [
    "# first course\n",
    "course_list[0].click()"
   ]
  },
  {
   "cell_type": "code",
   "execution_count": null,
   "metadata": {},
   "outputs": [],
   "source": [
    "try:\n",
    "    WebDriverWait(driver, 20, 2).until(lambda x: len(x.window_handles) > 1)\n",
    "except Exception as e:\n",
    "    print(e, file=sys.stderr)\n",
    "    logout()"
   ]
  },
  {
   "cell_type": "markdown",
   "metadata": {},
   "source": [
    "Click on the button will open a new non-active tab, in other words, `driver.current_url` still remains 'https://time.geekbang.org/dashboard/course' while the course content is on the non-active tab."
   ]
  },
  {
   "cell_type": "code",
   "execution_count": null,
   "metadata": {},
   "outputs": [],
   "source": [
    "driver.current_url"
   ]
  },
  {
   "cell_type": "code",
   "execution_count": null,
   "metadata": {},
   "outputs": [],
   "source": [
    "driver.window_handles"
   ]
  },
  {
   "cell_type": "code",
   "execution_count": null,
   "metadata": {},
   "outputs": [],
   "source": [
    "## try to close current tab (old tab) to make the course page currentnt tab, but failed for some reason\n",
    "# driver.find_element_by_tag_name('body').send_keys(Keys.CONTROL + 'W')\n",
    "\n",
    "## try to use CTRL + TAB to switch to the right tab, but failed again\n",
    "#driver.find_element_by_tag_name('body').send_keys(Keys.CONTROL + Keys.TAB)\n",
    "\n",
    "# finnaly this one works\n",
    "driver.switch_to.window(driver.window_handles[1])"
   ]
  },
  {
   "cell_type": "code",
   "execution_count": null,
   "metadata": {},
   "outputs": [],
   "source": [
    "# wait unit the chapter container is ready\n",
    "WebDriverWait(driver, 20, 2)\\\n",
    "    .until(lambda x: x.find_element_by_xpath(\"//div[contains(@class, 'faLsNCZ2_0')]\"))\n"
   ]
  },
  {
   "cell_type": "code",
   "execution_count": null,
   "metadata": {},
   "outputs": [],
   "source": [
    "course_url = driver.current_url\n",
    "course_url"
   ]
  },
  {
   "cell_type": "code",
   "execution_count": null,
   "metadata": {},
   "outputs": [],
   "source": [
    "chapter_div_list = None\n",
    "try:\n",
    "    chapter_div_list = (WebDriverWait(driver, 20, 2)\n",
    "                        .until(lambda d: d.find_elements_by_css_selector(\"div[class~='rMLmCpCA_0']\")))\n",
    "except Exception as e:\n",
    "    print(e, file=sys.stderr)\n",
    "    driver.refresh()\n",
    "    (WebDriverWait(driver, 20, 2)\n",
    "                        .until(lambda d: d.find_elements_by_css_selector(\"div[class~='rMLmCpCA_0']\")))\n",
    "        "
   ]
  },
  {
   "cell_type": "code",
   "execution_count": null,
   "metadata": {},
   "outputs": [],
   "source": [
    "assert len(chapter_div_list) > 0, 'stop'"
   ]
  },
  {
   "cell_type": "code",
   "execution_count": null,
   "metadata": {},
   "outputs": [],
   "source": [
    "chapter_title_list = []\n",
    "for div in chapter_div_list:\n",
    "    chapter_title_list.append(div.get_property(\"firstChild\").get_property(\"firstChild\")\n",
    "                              .get_property(\"innerHTML\"))"
   ]
  },
  {
   "cell_type": "code",
   "execution_count": null,
   "metadata": {
    "scrolled": true
   },
   "outputs": [],
   "source": [
    "chapter_title_list"
   ]
  },
  {
   "cell_type": "code",
   "execution_count": null,
   "metadata": {},
   "outputs": [],
   "source": [
    "def format_path(p):\n",
    "        # replace \"/\" with \",\" due to path format limitation\n",
    "        p = p.replace(\" \", \"\")\n",
    "        p = p.replace('/', ',')\n",
    "        # replace all non-ASCII code with ASCII code\n",
    "        p = p.replace(\"丨\", \"|\")\n",
    "        p = p.replace(\"（\", \"(\")\n",
    "        p = p.replace(\"）\",\")\")\n",
    "        p = p.replace(\"：\", \":\")\n",
    "        p = p.replace(\"？\", \"?\")\n",
    "        p = p.replace(\"，\", \",\")\n",
    "        p = p.replace(\"“\", \"\\\"\")\n",
    "        p = p.replace(\"”\",\"\\\"\")\n",
    "        return p\n"
   ]
  },
  {
   "cell_type": "code",
   "execution_count": null,
   "metadata": {},
   "outputs": [],
   "source": [
    "chapter_title_list = list(map(format_path, chapter_title_list))\n",
    "chapter_title_list"
   ]
  },
  {
   "cell_type": "code",
   "execution_count": null,
   "metadata": {},
   "outputs": [],
   "source": [
    "course_title = driver.find_element_by_css_selector(\"div._382D6fck_0 > div.WRb7YQxC_0\").text\n",
    "course_title = format_path(course_title)\n",
    "\n",
    "# create filesystem hierachy\n",
    "if os.path.isdir(course_title) is False:\n",
    "    os.mkdir(course_title)\n",
    "    print(course_title)\n",
    "    logging.info(course_title)\n",
    "for chapter in chapter_title_list:\n",
    "    p = os.path.join(course_title, chapter)\n",
    "    print(p)\n",
    "    logging.info(p)\n",
    "    if os.path.isdir(p) is False:\n",
    "        os.mkdir(p)\n"
   ]
  },
  {
   "cell_type": "code",
   "execution_count": null,
   "metadata": {},
   "outputs": [],
   "source": [
    "# reset history and fold all chapter node to get ready for iteration\n",
    "for chapter in chapter_div_list:\n",
    "    logging.info(chapter.get_property(\"className\"))\n",
    "    if \"_3kBNzF8S_0\" in chapter.get_property(\"className\"):\n",
    "        chapter.get_property(\"firstChild\").click()"
   ]
  },
  {
   "cell_type": "code",
   "execution_count": null,
   "metadata": {},
   "outputs": [],
   "source": [
    "def save_article_to_html():\n",
    "    course_title = (driver.find_element_by_css_selector(\"div._382D6fck_0 > div.WRb7YQxC_0\")\n",
    "                    .get_property(\"innerText\"))\n",
    "    \n",
    "    current_article_div = driver.find_element_by_css_selector(\"div[class~='_2AkdpMxn_0']\")\n",
    "    \n",
    "    current_chapter_div = (current_article_div\n",
    "                            .get_property(\"parentElement\")\n",
    "                            .get_property(\"parentElement\")\n",
    "                            .get_property(\"parentElement\"))\n",
    "    current_chapter_name = (current_chapter_div\n",
    "                            .get_property(\"firstChild\")\n",
    "                            .get_property(\"firstChild\")\n",
    "                            .get_property(\"innerText\"))\n",
    "    \n",
    "    current_article_name = (current_article_div\n",
    "                            .get_property(\"firstChild\")\n",
    "                            .get_property(\"innerText\"))\n",
    "    \n",
    "    article_content_div = driver.find_element_by_css_selector(\"div._2c4hPkl9 > div:nth-child(1)\")\n",
    "    article_content_html = article_content_div.get_property(\"outerHTML\")\n",
    "    \n",
    "    # write to file\n",
    "    filename = current_article_name+'.html' \n",
    "    \n",
    "    logging.info(course_title, current_chapter_name, current_article_name)\n",
    "    output_path = os.path.join(format_path(course_title),\n",
    "                               # format_path(current_chapter_name),\n",
    "                               format_path(filename))\n",
    "    logging.info(output_path)\n",
    "    \n",
    "    if os.path.isfile(output_path) is False:\n",
    "        with open(output_path, 'w') as writer:\n",
    "            writer.write(article_content_html)\n",
    "        print(\"SUCCESS: \" + output_path + \" is saved.\")\n",
    "    else:\n",
    "        print(\"WARNING: \" + output_path + \" has existed!\")"
   ]
  },
  {
   "cell_type": "code",
   "execution_count": null,
   "metadata": {},
   "outputs": [],
   "source": [
    "def save_all_article():\n",
    "    n_chapter = len(chapter_div_list)\n",
    "\n",
    "    for c in range(n_chapter):\n",
    "        # first click the chapter div to unfold it\n",
    "        chapter_div_list[c].get_property(\"firstChild\").location_once_scrolled_into_view\n",
    "        chapter_div_list[c].get_property(\"firstChild\").click()\n",
    "\n",
    "        article_node_list = (driver\n",
    "                             .find_elements_by_css_selector(\n",
    "                                 \"div[class~='_3kBNzF8S_0'] div[class~='_1NHkz9xq_0']\")\n",
    "                            )\n",
    "        n_article = len(article_node_list)\n",
    "\n",
    "        for a in range(n_article):\n",
    "            # click to go to the article\n",
    "            article_node_list[a].location_once_scrolled_into_view\n",
    "            article_node_list[a].click()\n",
    "\n",
    "            # wait for content to be displayed\n",
    "            try:\n",
    "                WebDriverWait(driver, 20, 3).until(lambda x: x.find_element_by_css_selector(\"div._2c4hPkl9\"))\n",
    "            except Exception as e:\n",
    "                logging.error(article_node_list[a].get_property(\"innerText\")+\" failed to save!\")\n",
    "            logging.info(driver.current_url)\n",
    "            \n",
    "            try:\n",
    "                save_article_to_html()\n",
    "            except Exception as e:\n",
    "                logging.error(article_node_list[a].get_property(\"innerText\")+\" failed to save!\")\n",
    "                print(e, file=sys.stderr)\n",
    "\n",
    "        current_chapter_div = driver.find_element_by_css_selector(\"div[class~='_3kBNzF8S_0']\")\n",
    "        current_chapter_div.get_property(\"firstChild\").location_once_scrolled_into_view\n",
    "        current_chapter_div.get_property(\"firstChild\").click()\n"
   ]
  },
  {
   "cell_type": "code",
   "execution_count": null,
   "metadata": {
    "scrolled": false
   },
   "outputs": [],
   "source": [
    "save_all_article()"
   ]
  },
  {
   "cell_type": "code",
   "execution_count": null,
   "metadata": {
    "scrolled": true
   },
   "outputs": [],
   "source": [
    "logout()"
   ]
  },
  {
   "cell_type": "code",
   "execution_count": null,
   "metadata": {},
   "outputs": [],
   "source": []
  }
 ],
 "metadata": {
  "kernelspec": {
   "display_name": "Python 3",
   "language": "python",
   "name": "python3"
  },
  "language_info": {
   "codemirror_mode": {
    "name": "ipython",
    "version": 3
   },
   "file_extension": ".py",
   "mimetype": "text/x-python",
   "name": "python",
   "nbconvert_exporter": "python",
   "pygments_lexer": "ipython3",
   "version": "3.7.7"
  },
  "widgets": {
   "application/vnd.jupyter.widget-state+json": {
    "state": {},
    "version_major": 2,
    "version_minor": 0
   }
  }
 },
 "nbformat": 4,
 "nbformat_minor": 2
}
