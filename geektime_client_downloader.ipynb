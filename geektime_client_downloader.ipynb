{
 "cells": [
  {
   "cell_type": "code",
   "execution_count": 1,
   "metadata": {},
   "outputs": [],
   "source": [
    "import os\n",
    "import sys"
   ]
  },
  {
   "cell_type": "code",
   "execution_count": 2,
   "metadata": {},
   "outputs": [],
   "source": [
    "from selenium import webdriver\n",
    "from selenium.webdriver.common.keys import Keys\n",
    "from selenium.webdriver.support.ui import WebDriverWait"
   ]
  },
  {
   "cell_type": "code",
   "execution_count": 3,
   "metadata": {},
   "outputs": [],
   "source": [
    "import logging\n",
    "from datetime import datetime as dt\n",
    "\n",
    "\n",
    "now = dt.today()\n",
    "logging.basicConfig(filename=f'{now}.debug.txt', level=logging.CRITICAL)"
   ]
  },
  {
   "cell_type": "code",
   "execution_count": 4,
   "metadata": {},
   "outputs": [],
   "source": [
    "username=\"your_username\"\n",
    "password=\"your_password\""
   ]
  },
  {
   "cell_type": "code",
   "execution_count": 5,
   "metadata": {},
   "outputs": [],
   "source": [
    "driver = webdriver.Firefox()\n",
    "geektime_login = 'https://account.geekbang.org/login'\n",
    "driver.get(geektime_login)\n",
    "\n",
    "input_phone = driver.find_element_by_xpath(\"/html/body/div[1]/div/div[1]/div[1]/div[1]/input\")\n",
    "input_pass = driver.find_element_by_xpath(\"/html/body/div[1]/div/div[1]/div[2]/input\")\n",
    "\n",
    "input_phone.send_keys(username)\n",
    "input_pass.send_keys(password)"
   ]
  },
  {
   "cell_type": "code",
   "execution_count": 6,
   "metadata": {},
   "outputs": [],
   "source": [
    "# 登录 \n",
    "button_submit = driver.find_element_by_xpath(\"/html/body/div[1]/div/div[1]/button\")\n",
    "button_submit.click()"
   ]
  },
  {
   "cell_type": "code",
   "execution_count": 7,
   "metadata": {},
   "outputs": [],
   "source": [
    "def logout():\n",
    "    logout_node = None\n",
    "    try:\n",
    "        logout_node = driver.find_element_by_css_selector(\"div[class~='_1MA-AdXE_0'] a:last-child\")\n",
    "    except:\n",
    "        try:\n",
    "            logout_node = driver.find_element_by_css_selector(\"a.avatarwrap\")\n",
    "        except:\n",
    "            pass\n",
    "    \n",
    "    if logout_node is not None:\n",
    "        logout_node.click()\n",
    "    else:\n",
    "        account_node = None\n",
    "        try:\n",
    "            account_node = driver.find_element_by_css_selector(\"span[class~='iconfont']\")\n",
    "            account_node.click()\n",
    "            logout_node = driver.find_element_by_css_selector(\"div[class~='_1MA-AdXE_0'] a:last-child\")\n",
    "        except Exception as e1:\n",
    "            try:\n",
    "                account_node = driver.find_element_by_css_selector(\"a.avatarwrap\")\n",
    "                account_node.click()\n",
    "                logout_node = driver\\\n",
    "                            .find_element_by_css_selector(\"div[class~='profile-dropdown'] a:last-child\")\n",
    "            except Exception as e2: \n",
    "                logging.error(\"The account node cannot be found!\")\n",
    "                print(e1)\n",
    "                print(e2)\n",
    "        else:\n",
    "            logout_node.click()\n",
    "    try:\n",
    "        WebDriverWait(driver, 10, 1).until(lambda d: d.find_element_by_css_selector(\"div#id\"))\n",
    "    except Exception as e:\n",
    "        print(e, file=sys.stderr)\n",
    "    finally:\n",
    "        driver.quit()\n"
   ]
  },
  {
   "cell_type": "code",
   "execution_count": 8,
   "metadata": {},
   "outputs": [
    {
     "data": {
      "text/plain": [
       "[<selenium.webdriver.firefox.webelement.FirefoxWebElement (session=\"bce2ee97-71b1-44fb-8cba-bf2013750748\", element=\"7a38f5f7-7f4a-4a9f-b985-27a6c089f08c\")>]"
      ]
     },
     "execution_count": 8,
     "metadata": {},
     "output_type": "execute_result"
    }
   ],
   "source": [
    "# 等待登陆成功 并进入我的基本信息页\n",
    "WebDriverWait(driver, 20, 2).until(lambda x: x.find_elements_by_css_selector(\"a.navbar-item:nth-child(2)\"))"
   ]
  },
  {
   "cell_type": "code",
   "execution_count": 9,
   "metadata": {},
   "outputs": [],
   "source": [
    "# click 极客时间\n",
    "geektime_index = \"https://time.geekbang.org/\"\n",
    "driver.get(geektime_index)"
   ]
  },
  {
   "cell_type": "code",
   "execution_count": 10,
   "metadata": {
    "scrolled": true
   },
   "outputs": [
    {
     "data": {
      "text/plain": [
       "<selenium.webdriver.firefox.webelement.FirefoxWebElement (session=\"bce2ee97-71b1-44fb-8cba-bf2013750748\", element=\"3893c433-0f60-4605-8f46-08e813238ef9\")>"
      ]
     },
     "execution_count": 10,
     "metadata": {},
     "output_type": "execute_result"
    }
   ],
   "source": [
    "# 我的课程列表的数据来自的是异步的AJAX请求 故在列表显示之前必须等待\n",
    "WebDriverWait(driver, 10, 2).until(lambda x: x.find_element_by_xpath(\"/html/body/div[1]/div[1]/div[5]/div/a\"))"
   ]
  },
  {
   "cell_type": "code",
   "execution_count": 11,
   "metadata": {},
   "outputs": [],
   "source": [
    "# click 关闭(modal)\n",
    "driver.find_element_by_xpath(\"/html/body/div[1]/div[1]/div[5]/div/a\").click()"
   ]
  },
  {
   "cell_type": "code",
   "execution_count": 12,
   "metadata": {},
   "outputs": [],
   "source": [
    "# 点击 我的课程 无法让webdriver的活跃页跟随跳转到新打开的 我的课程 页,\n",
    "# 直接请求 我的课程 URL 进行跳转\n",
    "geektime_home = \"https://time.geekbang.org/dashboard/course\"\n",
    "driver.get(geektime_home)"
   ]
  },
  {
   "cell_type": "code",
   "execution_count": 13,
   "metadata": {},
   "outputs": [],
   "source": [
    "# 我的课程列表的数据来自的是异步的AJAX请求 故在列表显示之前必须等待\n",
    "course_list = None\n",
    "try:\n",
    "    course_list = WebDriverWait(driver, 20, 2).until(lambda x: x.find_elements_by_css_selector(\"button\"))\n",
    "    logging.info(course_list)\n",
    "except Exception as e:\n",
    "    print(e, file=sys.stderr)\n",
    "    logout()"
   ]
  },
  {
   "cell_type": "code",
   "execution_count": 14,
   "metadata": {},
   "outputs": [
    {
     "data": {
      "text/plain": [
       "'https://time.geekbang.org/dashboard/course'"
      ]
     },
     "execution_count": 14,
     "metadata": {},
     "output_type": "execute_result"
    }
   ],
   "source": [
    "course_home = driver.current_url\n",
    "course_home"
   ]
  },
  {
   "cell_type": "code",
   "execution_count": 15,
   "metadata": {
    "scrolled": false
   },
   "outputs": [],
   "source": [
    "# first course\n",
    "course_list[0].click()"
   ]
  },
  {
   "cell_type": "code",
   "execution_count": 16,
   "metadata": {},
   "outputs": [],
   "source": [
    "try:\n",
    "    WebDriverWait(driver, 20, 2).until(lambda x: len(x.window_handles) > 1)\n",
    "except Exception as e:\n",
    "    print(e, file=sys.stderr)\n",
    "    logout()"
   ]
  },
  {
   "cell_type": "markdown",
   "metadata": {},
   "source": [
    "Click on the button will open a new non-active tab, in other words, `driver.current_url` still remains 'https://time.geekbang.org/dashboard/course' while the course content is on the non-active tab."
   ]
  },
  {
   "cell_type": "code",
   "execution_count": 17,
   "metadata": {},
   "outputs": [
    {
     "data": {
      "text/plain": [
       "'https://time.geekbang.org/dashboard/course'"
      ]
     },
     "execution_count": 17,
     "metadata": {},
     "output_type": "execute_result"
    }
   ],
   "source": [
    "driver.current_url"
   ]
  },
  {
   "cell_type": "code",
   "execution_count": 18,
   "metadata": {},
   "outputs": [
    {
     "data": {
      "text/plain": [
       "['15', '4294967338']"
      ]
     },
     "execution_count": 18,
     "metadata": {},
     "output_type": "execute_result"
    }
   ],
   "source": [
    "driver.window_handles"
   ]
  },
  {
   "cell_type": "code",
   "execution_count": 19,
   "metadata": {},
   "outputs": [],
   "source": [
    "\n",
    "## try to close current tab (old tab) to make the course page currentnt tab, but failed for some reason\n",
    "# driver.find_element_by_tag_name('body').send_keys(Keys.CONTROL + 'W')\n",
    "\n",
    "## try to use CTRL + TAB to switch to the right tab, but failed again\n",
    "#driver.find_element_by_tag_name('body').send_keys(Keys.CONTROL + Keys.TAB)\n",
    "\n",
    "# finnaly this one works\n",
    "driver.switch_to.window(driver.window_handles[1])"
   ]
  },
  {
   "cell_type": "code",
   "execution_count": 20,
   "metadata": {},
   "outputs": [
    {
     "data": {
      "text/plain": [
       "<selenium.webdriver.firefox.webelement.FirefoxWebElement (session=\"bce2ee97-71b1-44fb-8cba-bf2013750748\", element=\"732ea95c-18f2-43d8-b7bd-3e27013bf9c8\")>"
      ]
     },
     "execution_count": 20,
     "metadata": {},
     "output_type": "execute_result"
    }
   ],
   "source": [
    "# wait unit the chapter container is ready\n",
    "WebDriverWait(driver, 20, 2)\\\n",
    "    .until(lambda x: x.find_element_by_xpath(\"//div[contains(@class, 'faLsNCZ2_0')]\"))\n"
   ]
  },
  {
   "cell_type": "code",
   "execution_count": 21,
   "metadata": {},
   "outputs": [
    {
     "data": {
      "text/plain": [
       "'https://time.geekbang.org/column/article/73971'"
      ]
     },
     "execution_count": 21,
     "metadata": {},
     "output_type": "execute_result"
    }
   ],
   "source": [
    "course_url = driver.current_url\n",
    "course_url"
   ]
  },
  {
   "cell_type": "code",
   "execution_count": 22,
   "metadata": {},
   "outputs": [],
   "source": [
    "chapter_div_list = None\n",
    "try:\n",
    "    chapter_div_list = (WebDriverWait(driver, 20, 2)\n",
    "                        .until(lambda d: d.find_elements_by_css_selector(\"div[class~='rMLmCpCA_0']\")))\n",
    "except Exception as e:\n",
    "    print(e, file=sys.stderr)\n",
    "    driver.refresh()\n",
    "    (WebDriverWait(driver, 20, 2)\n",
    "                        .until(lambda d: d.find_elements_by_css_selector(\"div[class~='rMLmCpCA_0']\")))\n",
    "        "
   ]
  },
  {
   "cell_type": "code",
   "execution_count": 23,
   "metadata": {},
   "outputs": [],
   "source": [
    "assert len(chapter_div_list) > 0, 'stop'"
   ]
  },
  {
   "cell_type": "code",
   "execution_count": 24,
   "metadata": {},
   "outputs": [],
   "source": [
    "chapter_title_list = []\n",
    "for div in chapter_div_list:\n",
    "    chapter_title_list.append(div.get_property(\"firstChild\").get_property(\"firstChild\")\n",
    "                              .get_property(\"innerHTML\"))"
   ]
  },
  {
   "cell_type": "code",
   "execution_count": 25,
   "metadata": {
    "scrolled": true
   },
   "outputs": [
    {
     "data": {
      "text/plain": [
       "['开篇词 (1讲)',\n",
       " '第一模块：数据分析基础篇 (16讲)',\n",
       " '第二模块：数据分析算法篇 (20讲)',\n",
       " '第三模块：数据分析实战篇 (7讲)',\n",
       " '第四模块：数据分析工作篇 (2讲)',\n",
       " '加餐 (1讲)',\n",
       " '结束语 (1讲)']"
      ]
     },
     "execution_count": 25,
     "metadata": {},
     "output_type": "execute_result"
    }
   ],
   "source": [
    "chapter_title_list"
   ]
  },
  {
   "cell_type": "code",
   "execution_count": 26,
   "metadata": {},
   "outputs": [],
   "source": [
    "def format_path(p):\n",
    "        # replace \"/\" with \",\" due to path format limitation\n",
    "        p = p.replace(\" \", \"\")\n",
    "        p = p.replace('/', ',')\n",
    "        # replace all non-ASCII code with ASCII code\n",
    "        p = p.replace(\"丨\", \"|\")\n",
    "        p = p.replace(\"（\", \"(\")\n",
    "        p = p.replace(\"）\",\")\")\n",
    "        p = p.replace(\"：\", \":\")\n",
    "        p = p.replace(\"？\", \"?\")\n",
    "        p = p.replace(\"，\", \",\")\n",
    "        p = p.replace(\"“\", \"\\\"\")\n",
    "        p = p.replace(\"”\",\"\\\"\")\n",
    "        return p\n"
   ]
  },
  {
   "cell_type": "code",
   "execution_count": 27,
   "metadata": {},
   "outputs": [
    {
     "data": {
      "text/plain": [
       "['开篇词(1讲)',\n",
       " '第一模块:数据分析基础篇(16讲)',\n",
       " '第二模块:数据分析算法篇(20讲)',\n",
       " '第三模块:数据分析实战篇(7讲)',\n",
       " '第四模块:数据分析工作篇(2讲)',\n",
       " '加餐(1讲)',\n",
       " '结束语(1讲)']"
      ]
     },
     "execution_count": 27,
     "metadata": {},
     "output_type": "execute_result"
    }
   ],
   "source": [
    "chapter_title_list = list(map(format_path, chapter_title_list))\n",
    "chapter_title_list"
   ]
  },
  {
   "cell_type": "code",
   "execution_count": 28,
   "metadata": {},
   "outputs": [
    {
     "name": "stdout",
     "output_type": "stream",
     "text": [
      "数据分析实战45讲\n",
      "数据分析实战45讲/开篇词(1讲)\n",
      "数据分析实战45讲/第一模块:数据分析基础篇(16讲)\n",
      "数据分析实战45讲/第二模块:数据分析算法篇(20讲)\n",
      "数据分析实战45讲/第三模块:数据分析实战篇(7讲)\n",
      "数据分析实战45讲/第四模块:数据分析工作篇(2讲)\n",
      "数据分析实战45讲/加餐(1讲)\n",
      "数据分析实战45讲/结束语(1讲)\n"
     ]
    }
   ],
   "source": [
    "course_title = driver.find_element_by_css_selector(\"div._382D6fck_0 > div.WRb7YQxC_0\").text\n",
    "course_title = format_path(course_title)\n",
    "\n",
    "# create filesystem hierachy\n",
    "if os.path.isdir(course_title) is False:\n",
    "    os.mkdir(course_title)\n",
    "    print(course_title)\n",
    "    logging.info(course_title)\n",
    "for chapter in chapter_title_list:\n",
    "    p = os.path.join(course_title, chapter)\n",
    "    print(p)\n",
    "    logging.info(p)\n",
    "    if os.path.isdir(p) is False:\n",
    "        os.mkdir(p)\n"
   ]
  },
  {
   "cell_type": "code",
   "execution_count": 29,
   "metadata": {},
   "outputs": [],
   "source": [
    "# reset history and fold all chapter node to get ready for iteration\n",
    "for chapter in chapter_div_list:\n",
    "    logging.info(chapter.get_property(\"className\"))\n",
    "    if \"_3kBNzF8S_0\" in chapter.get_property(\"className\"):\n",
    "        chapter.get_property(\"firstChild\").click()"
   ]
  },
  {
   "cell_type": "code",
   "execution_count": 30,
   "metadata": {},
   "outputs": [],
   "source": [
    "def save_article_to_html():\n",
    "    course_title = (driver.find_element_by_css_selector(\"div._382D6fck_0 > div.WRb7YQxC_0\")\n",
    "                    .get_property(\"innerText\"))\n",
    "    \n",
    "    current_article_div = driver.find_element_by_css_selector(\"div[class~='_2AkdpMxn_0']\")\n",
    "    \n",
    "    current_chapter_div = (current_article_div\n",
    "                            .get_property(\"parentElement\")\n",
    "                            .get_property(\"parentElement\")\n",
    "                            .get_property(\"parentElement\"))\n",
    "    current_chapter_name = (current_chapter_div\n",
    "                            .get_property(\"firstChild\")\n",
    "                            .get_property(\"firstChild\")\n",
    "                            .get_property(\"innerText\"))\n",
    "    \n",
    "    current_article_name = (current_article_div\n",
    "                            .get_property(\"firstChild\")\n",
    "                            .get_property(\"innerText\"))\n",
    "    \n",
    "    article_content_div = driver.find_element_by_css_selector(\"div._2c4hPkl9 > div:nth-child(1)\")\n",
    "    article_content_html = article_content_div.get_property(\"outerHTML\")\n",
    "    \n",
    "    # write to file\n",
    "    filename = current_article_name+'.html' \n",
    "    \n",
    "    logging.info(course_title, current_chapter_name, current_article_name)\n",
    "    output_path = os.path.join(format_path(course_title),\n",
    "                               # format_path(current_chapter_name),\n",
    "                               format_path(filename))\n",
    "    logging.info(output_path)\n",
    "    \n",
    "    if os.path.isfile(output_path) is False:\n",
    "        with open(output_path, 'w') as writer:\n",
    "            writer.write(article_content_html)\n",
    "        print(\"SUCCESS: \" + output_path + \" is saved.\")\n",
    "    else:\n",
    "        print(\"WARNING: \" + output_path + \" has existed!\")"
   ]
  },
  {
   "cell_type": "code",
   "execution_count": 31,
   "metadata": {},
   "outputs": [],
   "source": [
    "def save_all_article():\n",
    "    n_chapter = len(chapter_div_list)\n",
    "\n",
    "    for c in range(n_chapter):\n",
    "        # first click the chapter div to unfold it\n",
    "        chapter_div_list[c].get_property(\"firstChild\").location_once_scrolled_into_view\n",
    "        chapter_div_list[c].get_property(\"firstChild\").click()\n",
    "\n",
    "        article_node_list = (driver\n",
    "                             .find_elements_by_css_selector(\n",
    "                                 \"div[class~='_3kBNzF8S_0'] div[class~='_1NHkz9xq_0']\")\n",
    "                            )\n",
    "        n_article = len(article_node_list)\n",
    "\n",
    "        for a in range(n_article):\n",
    "            # click to go to the article\n",
    "            article_node_list[a].location_once_scrolled_into_view\n",
    "            article_node_list[a].click()\n",
    "\n",
    "            # wait for content to be displayed\n",
    "            try:\n",
    "                WebDriverWait(driver, 20, 3).until(lambda x: x.find_element_by_css_selector(\"div._2c4hPkl9\"))\n",
    "            except Exception as e:\n",
    "                logging.error(article_node_list[a].get_property(\"innerText\")+\" failed to save!\")\n",
    "            logging.info(driver.current_url)\n",
    "            \n",
    "            try:\n",
    "                save_article_to_html()\n",
    "            except Exception as e:\n",
    "                logging.error(article_node_list[a].get_property(\"innerText\")+\" failed to save!\")\n",
    "                print(e, file=sys.stderr)\n",
    "\n",
    "        current_chapter_div = driver.find_element_by_css_selector(\"div[class~='_3kBNzF8S_0']\")\n",
    "        current_chapter_div.get_property(\"firstChild\").location_once_scrolled_into_view\n",
    "        current_chapter_div.get_property(\"firstChild\").click()\n"
   ]
  },
  {
   "cell_type": "code",
   "execution_count": 32,
   "metadata": {
    "scrolled": false
   },
   "outputs": [
    {
     "name": "stdout",
     "output_type": "stream",
     "text": [
      "SUCCESS: 数据分析实战45讲/开篇词|你为什么需要数据分析能力?.html is saved.\n",
      "SUCCESS: 数据分析实战45讲/01|数据分析全景图及修炼指南.html is saved.\n",
      "SUCCESS: 数据分析实战45讲/02|学习数据挖掘的最佳路径是什么?.html is saved.\n",
      "SUCCESS: 数据分析实战45讲/03|Python基础语法:开始你的Python之旅.html is saved.\n",
      "SUCCESS: 数据分析实战45讲/04|Python科学计算:用NumPy快速处理数据.html is saved.\n",
      "SUCCESS: 数据分析实战45讲/05|Python科学计算:Pandas.html is saved.\n",
      "SUCCESS: 数据分析实战45讲/06|学数据分析要掌握哪些基本概念?.html is saved.\n",
      "SUCCESS: 数据分析实战45讲/07|用户画像:标签化就是数据的抽象能力.html is saved.\n",
      "SUCCESS: 数据分析实战45讲/08|数据采集:如何自动化采集数据?.html is saved.\n",
      "SUCCESS: 数据分析实战45讲/09|数据采集:如何用八爪鱼采集微博上的\"D&G\"评论.html is saved.\n",
      "SUCCESS: 数据分析实战45讲/10|Python爬虫:如何自动化下载王祖贤海报?.html is saved.\n",
      "SUCCESS: 数据分析实战45讲/11|数据科学家80%时间都花费在了这些清洗任务上?.html is saved.\n",
      "SUCCESS: 数据分析实战45讲/12|数据集成:这些大号一共20亿粉丝?.html is saved.\n",
      "SUCCESS: 数据分析实战45讲/13|数据变换:考试成绩要求正态分布合理么?.html is saved.\n",
      "SUCCESS: 数据分析实战45讲/14|数据可视化:掌握数据领域的万金油技能.html is saved.\n",
      "SUCCESS: 数据分析实战45讲/15|一次学会Python数据可视化的10种技能.html is saved.\n",
      "SUCCESS: 数据分析实战45讲/16|数据分析基础篇答疑.html is saved.\n",
      "SUCCESS: 数据分析实战45讲/17|决策树(上):要不要去打篮球?决策树来告诉你.html is saved.\n",
      "SUCCESS: 数据分析实战45讲/18|决策树(中):CART，一棵是回归树，另一棵是分类树.html is saved.\n",
      "SUCCESS: 数据分析实战45讲/19|决策树(下):泰坦尼克乘客生存预测.html is saved.\n",
      "SUCCESS: 数据分析实战45讲/20|朴素贝叶斯分类(上):如何让机器判断男女?.html is saved.\n",
      "SUCCESS: 数据分析实战45讲/21|朴素贝叶斯分类(下):如何对文档进行分类?.html is saved.\n",
      "SUCCESS: 数据分析实战45讲/22|SVM(上):如何用一根棍子将蓝红两色球分开?.html is saved.\n",
      "SUCCESS: 数据分析实战45讲/23|SVM(下):如何进行乳腺癌检测?.html is saved.\n",
      "SUCCESS: 数据分析实战45讲/24|KNN(上):如何根据打斗和接吻次数来划分电影类型?.html is saved.\n",
      "SUCCESS: 数据分析实战45讲/25|KNN(下):如何对手写数字进行识别?.html is saved.\n",
      "SUCCESS: 数据分析实战45讲/26|K-Means(上):如何给20支亚洲球队做聚类?.html is saved.\n",
      "SUCCESS: 数据分析实战45讲/27|K-Means(下):如何使用K-Means对图像进行分割?.html is saved.\n",
      "SUCCESS: 数据分析实战45讲/28|EM聚类(上):如何将一份菜等分给两个人?.html is saved.\n",
      "SUCCESS: 数据分析实战45讲/29|EM聚类(下):用EM算法对王者荣耀英雄进行划分.html is saved.\n",
      "SUCCESS: 数据分析实战45讲/30|关联规则挖掘(上):如何用Apriori发现用户购物规则?.html is saved.\n",
      "SUCCESS: 数据分析实战45讲/31|关联规则挖掘(下):导演如何选择演员?.html is saved.\n",
      "SUCCESS: 数据分析实战45讲/32|PageRank(上):搞懂Google的PageRank算法.html is saved.\n",
      "SUCCESS: 数据分析实战45讲/33|PageRank(下):分析希拉里邮件中的人物关系.html is saved.\n",
      "SUCCESS: 数据分析实战45讲/34|AdaBoost(上):如何使用AdaBoost提升分类器性能?.html is saved.\n",
      "SUCCESS: 数据分析实战45讲/35|AdaBoost(下):如何使用AdaBoost对房价进行预测?.html is saved.\n",
      "SUCCESS: 数据分析实战45讲/36|数据分析算法篇答疑.html is saved.\n",
      "SUCCESS: 数据分析实战45讲/37|数据采集实战:如何自动化运营微博?.html is saved.\n",
      "SUCCESS: 数据分析实战45讲/38|数据可视化实战:如何给毛不易的歌曲做词云展示?.html is saved.\n",
      "SUCCESS: 数据分析实战45讲/39|数据挖掘实战(1):信用卡违约率分析.html is saved.\n",
      "SUCCESS: 数据分析实战45讲/40|数据挖掘实战(2):信用卡诈骗分析.html is saved.\n",
      "SUCCESS: 数据分析实战45讲/41|数据挖掘实战(3):如何对比特币走势进行预测?.html is saved.\n",
      "SUCCESS: 数据分析实战45讲/42|当我们谈深度学习的时候，我们都在谈什么?.html is saved.\n",
      "SUCCESS: 数据分析实战45讲/43|深度学习(下):如何用Keras搭建深度学习网络做手写数字识别?.html is saved.\n",
      "SUCCESS: 数据分析实战45讲/44|如何培养你的数据分析思维?.html is saved.\n",
      "SUCCESS: 数据分析实战45讲/45|求职简历中没有相关项目经验，怎么办?.html is saved.\n",
      "SUCCESS: 数据分析实战45讲/加餐|在社交网络上刷粉刷量，技术上是如何实现的?.html is saved.\n",
      "SUCCESS: 数据分析实战45讲/结束语|当大家都在讲知识和工具的时候，我更希望你重视思维和实战.html is saved.\n"
     ]
    }
   ],
   "source": [
    "save_all_article()"
   ]
  },
  {
   "cell_type": "code",
   "execution_count": null,
   "metadata": {
    "scrolled": true
   },
   "outputs": [],
   "source": [
    "logout()"
   ]
  },
  {
   "cell_type": "code",
   "execution_count": null,
   "metadata": {},
   "outputs": [],
   "source": []
  }
 ],
 "metadata": {
  "kernelspec": {
   "display_name": "Python 3",
   "language": "python",
   "name": "python3"
  },
  "language_info": {
   "codemirror_mode": {
    "name": "ipython",
    "version": 3
   },
   "file_extension": ".py",
   "mimetype": "text/x-python",
   "name": "python",
   "nbconvert_exporter": "python",
   "pygments_lexer": "ipython3",
   "version": "3.7.4"
  },
  "widgets": {
   "application/vnd.jupyter.widget-state+json": {
    "state": {},
    "version_major": 2,
    "version_minor": 0
   }
  }
 },
 "nbformat": 4,
 "nbformat_minor": 2
}
